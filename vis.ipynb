{
 "cells": [
  {
   "cell_type": "code",
   "execution_count": null,
   "metadata": {},
   "outputs": [],
   "source": [
    "%pip install pandas plotly nbformat"
   ]
  },
  {
   "cell_type": "code",
   "execution_count": null,
   "metadata": {},
   "outputs": [],
   "source": [
    "# Run zig build pagefault and capture CSV output\n",
    "import subprocess\n",
    "\n",
    "result = subprocess.run(['zig', 'build', '--release=safe', 'sandbox', '--', 'pagefault'], stdout=subprocess.PIPE, stderr=subprocess.PIPE, text=True)\n",
    "csv_output = result.stdout\n",
    "print(csv_output)\n"
   ]
  },
  {
   "cell_type": "code",
   "execution_count": null,
   "metadata": {},
   "outputs": [],
   "source": [
    "# Parse the CSV output and create a line plot\n",
    "import pandas as pd\n",
    "import io\n",
    "\n",
    "# Create file-like object from CSV string\n",
    "csv_file = io.StringIO(csv_output)\n",
    "df = pd.read_csv(csv_file, sep=',', skipinitialspace=True)  # ignore spaces after commas\n",
    "\n",
    "import plotly.express as px\n",
    "fig = px.line(df, x='Touch Count', y='Fault Count', title='Fault Count vs Touch Count')\n",
    "fig.show()\n",
    "\n",
    "# Compute difference between 'Touch Count' and 'Fault Count'\n",
    "df['Difference'] = df['Touch Count'] - df['Fault Count']\n",
    "\n",
    "# Create a new line plot for the difference\n",
    "fig_extra = px.line(df, x='Touch Count', y='Extra Faults', title='Extra Faults vs Touch Count')\n",
    "fig_extra.show()"
   ]
  }
 ],
 "metadata": {
  "kernelspec": {
   "display_name": "Python 3",
   "language": "python",
   "name": "python3"
  },
  "language_info": {
   "codemirror_mode": {
    "name": "ipython",
    "version": 3
   },
   "file_extension": ".py",
   "mimetype": "text/x-python",
   "name": "python",
   "nbconvert_exporter": "python",
   "pygments_lexer": "ipython3",
   "version": "3.11.0"
  }
 },
 "nbformat": 4,
 "nbformat_minor": 2
}
